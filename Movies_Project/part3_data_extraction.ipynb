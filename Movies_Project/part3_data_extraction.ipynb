{
 "cells": [
  {
   "cell_type": "code",
   "execution_count": null,
   "metadata": {},
   "outputs": [],
   "source": [
    "# imports\n",
    "import json\n",
    "import tmdbsimple as tmdb \n",
    "import pandas as pd\n",
    "from tqdm.notebook import tqdm_notebook"
   ]
  },
  {
   "cell_type": "code",
   "execution_count": null,
   "metadata": {},
   "outputs": [],
   "source": [
    "# connect to the \"TMDB\" API\n",
    "with open(\".secret/tmdb_api.json\", 'r') as f:\n",
    "    login = json.load(f)\n",
    "tmdb.API_KEY =  login['api_key']"
   ]
  },
  {
   "cell_type": "code",
   "execution_count": null,
   "metadata": {},
   "outputs": [],
   "source": [
    "# define list of years to get from API\n",
    "years_to_get = [2001, 2002]"
   ]
  },
  {
   "cell_type": "code",
   "execution_count": null,
   "metadata": {},
   "outputs": [],
   "source": [
    "# define function that get movie informations with rating\n",
    "def get_with_rating(API, movie_id):\n",
    "    movie = API.Movies(movie_id)\n",
    "    movie_info = movie.info()\n",
    "    releases = movie.releases()\n",
    "    for c in releases[\"countries\"]:\n",
    "        if c[\"iso_3166_1\"] ==\"US\":\n",
    "            movie_info[\"certification\"] = c[\"certification\"]\n",
    "    return(movie_info)\n",
    "# define function to save records in a json file\n",
    "def write_json(new_data, filename):   \n",
    "    with open(filename,\"r+\") as file:\n",
    "        file_data = json.load(file)\n",
    "        if (type(new_data) == list) & (type(file_data) == list):\n",
    "            file_data.extend(new_data)\n",
    "        else:\n",
    "             file_data.append(new_data)\n",
    "        file.seek(0)\n",
    "        json.dump(file_data, file)"
   ]
  },
  {
   "cell_type": "code",
   "execution_count": null,
   "metadata": {},
   "outputs": [
    {
     "data": {
      "application/vnd.jupyter.widget-view+json": {
       "model_id": "116ac57ccc6f42b8a3924e7b94709bd2",
       "version_major": 2,
       "version_minor": 0
      },
      "text/plain": [
       "Years:   0%|          | 0/2 [00:00<?, ?it/s]"
      ]
     },
     "metadata": {},
     "output_type": "display_data"
    },
    {
     "data": {
      "application/vnd.jupyter.widget-view+json": {
       "model_id": "12152769d5184c9cbb461f275a33223d",
       "version_major": 2,
       "version_minor": 0
      },
      "text/plain": [
       "Movies from 2001:   0%|          | 0/210 [00:00<?, ?it/s]"
      ]
     },
     "metadata": {},
     "output_type": "display_data"
    },
    {
     "data": {
      "application/vnd.jupyter.widget-view+json": {
       "model_id": "357619540f4146e8a7732a0c35139efd",
       "version_major": 2,
       "version_minor": 0
      },
      "text/plain": [
       "Movies from 2002:   0%|          | 0/275 [00:00<?, ?it/s]"
      ]
     },
     "metadata": {},
     "output_type": "display_data"
    }
   ],
   "source": [
    "# extract movies informations\n",
    "errors = []\n",
    "for year in tqdm_notebook(years_to_get, \"Years\", position=0):\n",
    "    df_basics = pd.read_csv(\"Data/title_basics_filtred.csv\")\n",
    "    movie_ids = df_basics[df_basics[\"startYear\"]==float(year)][\"tconst\"]\n",
    "    previous_df = pd.read_json(f\"Data/tmdb_api_results_{year}.json\")\n",
    "    if previous_df.shape[0] != 0:\n",
    "        movie_ids = movie_ids[~movie_ids.isin(previous_df['imdb_id'])]\n",
    "    for movie_id in tqdm_notebook(movie_ids, f\"Movies from {year}\", position=0):\n",
    "        try:\n",
    "            record = get_with_rating(tmdb, movie_id)\n",
    "            write_json(record, f\"Data/tmdb_api_results_{year}.json\")\n",
    "        except Exception as e:\n",
    "            errors.append([movie_id, e])"
   ]
  },
  {
   "cell_type": "code",
   "execution_count": null,
   "metadata": {},
   "outputs": [],
   "source": [
    "for year in years_to_get:\n",
    "    year_df = pd.read_json(f\"Data/tmdb_api_results_{year}.json\")\n",
    "    year_df.to_csv(f\"Data/final_tmdb_data_{year}.csv.gz\", compression=\"gzip\", index=False)"
   ]
  }
 ],
 "metadata": {
  "language_info": {
   "name": "python"
  }
 },
 "nbformat": 4,
 "nbformat_minor": 2
}
