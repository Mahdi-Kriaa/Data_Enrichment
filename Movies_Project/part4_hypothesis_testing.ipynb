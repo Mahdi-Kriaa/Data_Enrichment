{
 "cells": [
  {
   "cell_type": "code",
   "execution_count": 15,
   "metadata": {},
   "outputs": [],
   "source": [
    "# imports\n",
    "import pandas as pd\n",
    "import seaborn as sns\n",
    "import glob\n",
    "import scipy.stats as stats\n",
    "from statsmodels.stats.multicomp import pairwise_tukeyhsd"
   ]
  },
  {
   "cell_type": "code",
   "execution_count": 2,
   "metadata": {},
   "outputs": [],
   "source": [
    "# configurate general settings\n",
    "pd.set_option('display.max_columns', None)\n",
    "sns.set_theme(style=\"whitegrid\")"
   ]
  },
  {
   "cell_type": "code",
   "execution_count": 54,
   "metadata": {},
   "outputs": [],
   "source": [
    "# get all required file paths \n",
    "tmdb_files = sorted(glob.glob(\"Data/final_tmdb_data_201*.csv.gz\"))\n",
    "# load and combine data in a single dataframe\n",
    "df_movies = pd.concat([pd.read_csv(f) for f in tmdb_files])"
   ]
  },
  {
   "cell_type": "code",
   "execution_count": 4,
   "metadata": {},
   "outputs": [
    {
     "data": {
      "text/html": [
       "<div>\n",
       "<style scoped>\n",
       "    .dataframe tbody tr th:only-of-type {\n",
       "        vertical-align: middle;\n",
       "    }\n",
       "\n",
       "    .dataframe tbody tr th {\n",
       "        vertical-align: top;\n",
       "    }\n",
       "\n",
       "    .dataframe thead th {\n",
       "        text-align: right;\n",
       "    }\n",
       "</style>\n",
       "<table border=\"1\" class=\"dataframe\">\n",
       "  <thead>\n",
       "    <tr style=\"text-align: right;\">\n",
       "      <th></th>\n",
       "      <th>adult</th>\n",
       "      <th>backdrop_path</th>\n",
       "      <th>belongs_to_collection</th>\n",
       "      <th>budget</th>\n",
       "      <th>genres</th>\n",
       "      <th>homepage</th>\n",
       "      <th>id</th>\n",
       "      <th>imdb_id</th>\n",
       "      <th>original_language</th>\n",
       "      <th>original_title</th>\n",
       "      <th>overview</th>\n",
       "      <th>popularity</th>\n",
       "      <th>poster_path</th>\n",
       "      <th>production_companies</th>\n",
       "      <th>production_countries</th>\n",
       "      <th>release_date</th>\n",
       "      <th>revenue</th>\n",
       "      <th>runtime</th>\n",
       "      <th>spoken_languages</th>\n",
       "      <th>status</th>\n",
       "      <th>tagline</th>\n",
       "      <th>title</th>\n",
       "      <th>video</th>\n",
       "      <th>vote_average</th>\n",
       "      <th>vote_count</th>\n",
       "      <th>certification</th>\n",
       "    </tr>\n",
       "  </thead>\n",
       "  <tbody>\n",
       "    <tr>\n",
       "      <th>0</th>\n",
       "      <td>False</td>\n",
       "      <td>/lqUbt2cy2pnqvxKefbQAtxLS0WA.jpg</td>\n",
       "      <td>NaN</td>\n",
       "      <td>0</td>\n",
       "      <td>[{'id': 10751, 'name': 'Family'}, {'id': 16, '...</td>\n",
       "      <td>http://www.qqthemovie.com/</td>\n",
       "      <td>23738</td>\n",
       "      <td>tt0312305</td>\n",
       "      <td>en</td>\n",
       "      <td>Quantum Quest: A Cassini Space Odyssey</td>\n",
       "      <td>Dave, a young photon, who is forced out of the...</td>\n",
       "      <td>3.788</td>\n",
       "      <td>/uneDCn8y6RHKc5IAfpgznmaan9I.jpg</td>\n",
       "      <td>[]</td>\n",
       "      <td>[{'iso_3166_1': 'US', 'name': 'United States o...</td>\n",
       "      <td>2010-09-17</td>\n",
       "      <td>0</td>\n",
       "      <td>45</td>\n",
       "      <td>[{'english_name': 'English', 'iso_639_1': 'en'...</td>\n",
       "      <td>Released</td>\n",
       "      <td>NaN</td>\n",
       "      <td>Quantum Quest: A Cassini Space Odyssey</td>\n",
       "      <td>False</td>\n",
       "      <td>7.182</td>\n",
       "      <td>11</td>\n",
       "      <td>NaN</td>\n",
       "    </tr>\n",
       "    <tr>\n",
       "      <th>1</th>\n",
       "      <td>False</td>\n",
       "      <td>/aHspMnRBCdJwgHwQCvARQGWXuxS.jpg</td>\n",
       "      <td>NaN</td>\n",
       "      <td>0</td>\n",
       "      <td>[{'id': 53, 'name': 'Thriller'}, {'id': 9648, ...</td>\n",
       "      <td>http://www.inmysleep.com</td>\n",
       "      <td>40048</td>\n",
       "      <td>tt0326965</td>\n",
       "      <td>en</td>\n",
       "      <td>In My Sleep</td>\n",
       "      <td>A sleepwalking, sexaholic masseur wakes up, co...</td>\n",
       "      <td>2.286</td>\n",
       "      <td>/x1GJBX0RPkYuA77WujLyyLAoDAn.jpg</td>\n",
       "      <td>[]</td>\n",
       "      <td>[{'iso_3166_1': 'US', 'name': 'United States o...</td>\n",
       "      <td>2010-04-23</td>\n",
       "      <td>0</td>\n",
       "      <td>90</td>\n",
       "      <td>[{'english_name': 'English', 'iso_639_1': 'en'...</td>\n",
       "      <td>Released</td>\n",
       "      <td>Sleepwalking can be deadly.</td>\n",
       "      <td>In My Sleep</td>\n",
       "      <td>False</td>\n",
       "      <td>5.300</td>\n",
       "      <td>34</td>\n",
       "      <td>PG-13</td>\n",
       "    </tr>\n",
       "  </tbody>\n",
       "</table>\n",
       "</div>"
      ],
      "text/plain": [
       "   adult                     backdrop_path belongs_to_collection  budget  \\\n",
       "0  False  /lqUbt2cy2pnqvxKefbQAtxLS0WA.jpg                   NaN       0   \n",
       "1  False  /aHspMnRBCdJwgHwQCvARQGWXuxS.jpg                   NaN       0   \n",
       "\n",
       "                                              genres  \\\n",
       "0  [{'id': 10751, 'name': 'Family'}, {'id': 16, '...   \n",
       "1  [{'id': 53, 'name': 'Thriller'}, {'id': 9648, ...   \n",
       "\n",
       "                     homepage     id    imdb_id original_language  \\\n",
       "0  http://www.qqthemovie.com/  23738  tt0312305                en   \n",
       "1    http://www.inmysleep.com  40048  tt0326965                en   \n",
       "\n",
       "                           original_title  \\\n",
       "0  Quantum Quest: A Cassini Space Odyssey   \n",
       "1                             In My Sleep   \n",
       "\n",
       "                                            overview  popularity  \\\n",
       "0  Dave, a young photon, who is forced out of the...       3.788   \n",
       "1  A sleepwalking, sexaholic masseur wakes up, co...       2.286   \n",
       "\n",
       "                        poster_path production_companies  \\\n",
       "0  /uneDCn8y6RHKc5IAfpgznmaan9I.jpg                   []   \n",
       "1  /x1GJBX0RPkYuA77WujLyyLAoDAn.jpg                   []   \n",
       "\n",
       "                                production_countries release_date  revenue  \\\n",
       "0  [{'iso_3166_1': 'US', 'name': 'United States o...   2010-09-17        0   \n",
       "1  [{'iso_3166_1': 'US', 'name': 'United States o...   2010-04-23        0   \n",
       "\n",
       "   runtime                                   spoken_languages    status  \\\n",
       "0       45  [{'english_name': 'English', 'iso_639_1': 'en'...  Released   \n",
       "1       90  [{'english_name': 'English', 'iso_639_1': 'en'...  Released   \n",
       "\n",
       "                       tagline                                   title  video  \\\n",
       "0                          NaN  Quantum Quest: A Cassini Space Odyssey  False   \n",
       "1  Sleepwalking can be deadly.                             In My Sleep  False   \n",
       "\n",
       "   vote_average  vote_count certification  \n",
       "0         7.182          11           NaN  \n",
       "1         5.300          34         PG-13  "
      ]
     },
     "execution_count": 4,
     "metadata": {},
     "output_type": "execute_result"
    }
   ],
   "source": [
    "# display the two first rows\n",
    "df_movies.head(2)"
   ]
  },
  {
   "cell_type": "code",
   "execution_count": 17,
   "metadata": {},
   "outputs": [
    {
     "name": "stdout",
     "output_type": "stream",
     "text": [
      "<class 'pandas.core.frame.DataFrame'>\n",
      "Index: 36797 entries, 0 to 4938\n",
      "Data columns (total 26 columns):\n",
      " #   Column                 Non-Null Count  Dtype  \n",
      "---  ------                 --------------  -----  \n",
      " 0   adult                  36797 non-null  bool   \n",
      " 1   backdrop_path          24688 non-null  object \n",
      " 2   belongs_to_collection  2499 non-null   object \n",
      " 3   budget                 36797 non-null  int64  \n",
      " 4   genres                 36797 non-null  object \n",
      " 5   homepage               9738 non-null   object \n",
      " 6   id                     36797 non-null  int64  \n",
      " 7   imdb_id                36797 non-null  object \n",
      " 8   original_language      36797 non-null  object \n",
      " 9   original_title         36797 non-null  object \n",
      " 10  overview               36061 non-null  object \n",
      " 11  popularity             36797 non-null  float64\n",
      " 12  poster_path            34283 non-null  object \n",
      " 13  production_companies   36797 non-null  object \n",
      " 14  production_countries   36797 non-null  object \n",
      " 15  release_date           36185 non-null  object \n",
      " 16  revenue                36797 non-null  int64  \n",
      " 17  runtime                36797 non-null  int64  \n",
      " 18  spoken_languages       36797 non-null  object \n",
      " 19  status                 36797 non-null  object \n",
      " 20  tagline                13811 non-null  object \n",
      " 21  title                  36797 non-null  object \n",
      " 22  video                  36797 non-null  bool   \n",
      " 23  vote_average           36797 non-null  float64\n",
      " 24  vote_count             36797 non-null  int64  \n",
      " 25  certification          7701 non-null   object \n",
      "dtypes: bool(2), float64(2), int64(5), object(17)\n",
      "memory usage: 7.1+ MB\n"
     ]
    }
   ],
   "source": [
    "df_movies.info()"
   ]
  },
  {
   "cell_type": "code",
   "execution_count": 5,
   "metadata": {},
   "outputs": [],
   "source": [
    "# create a dictionary for certifications\n",
    "mpaa_ratings = [\"G\", \"PG\", \"PG-13\", \"R\"]\n",
    "groups = {}\n",
    "for cer in mpaa_ratings:\n",
    "    data = df_movies.loc[df_movies[\"certification\"]==cer, \"revenue\"].copy()\n",
    "    groups[cer] = data"
   ]
  },
  {
   "cell_type": "code",
   "execution_count": 7,
   "metadata": {},
   "outputs": [
    {
     "data": {
      "text/html": [
       "<div>\n",
       "<style scoped>\n",
       "    .dataframe tbody tr th:only-of-type {\n",
       "        vertical-align: middle;\n",
       "    }\n",
       "\n",
       "    .dataframe tbody tr th {\n",
       "        vertical-align: top;\n",
       "    }\n",
       "\n",
       "    .dataframe thead th {\n",
       "        text-align: right;\n",
       "    }\n",
       "</style>\n",
       "<table border=\"1\" class=\"dataframe\">\n",
       "  <thead>\n",
       "    <tr style=\"text-align: right;\">\n",
       "      <th></th>\n",
       "      <th>n</th>\n",
       "      <th>p-value</th>\n",
       "      <th>test stat</th>\n",
       "    </tr>\n",
       "  </thead>\n",
       "  <tbody>\n",
       "    <tr>\n",
       "      <th>G</th>\n",
       "      <td>252.0</td>\n",
       "      <td>1.219315e-74</td>\n",
       "      <td>340.386016</td>\n",
       "    </tr>\n",
       "    <tr>\n",
       "      <th>PG</th>\n",
       "      <td>767.0</td>\n",
       "      <td>2.415887e-140</td>\n",
       "      <td>642.959693</td>\n",
       "    </tr>\n",
       "    <tr>\n",
       "      <th>PG-13</th>\n",
       "      <td>1581.0</td>\n",
       "      <td>0.000000e+00</td>\n",
       "      <td>1597.103955</td>\n",
       "    </tr>\n",
       "    <tr>\n",
       "      <th>R</th>\n",
       "      <td>2805.0</td>\n",
       "      <td>0.000000e+00</td>\n",
       "      <td>3615.320483</td>\n",
       "    </tr>\n",
       "  </tbody>\n",
       "</table>\n",
       "</div>"
      ],
      "text/plain": [
       "            n        p-value    test stat\n",
       "G       252.0   1.219315e-74   340.386016\n",
       "PG      767.0  2.415887e-140   642.959693\n",
       "PG-13  1581.0   0.000000e+00  1597.103955\n",
       "R      2805.0   0.000000e+00  3615.320483"
      ]
     },
     "execution_count": 7,
     "metadata": {},
     "output_type": "execute_result"
    }
   ],
   "source": [
    "# check normality for each group\n",
    "norm_results = {}\n",
    "for i, data in groups.items():\n",
    "    stat, p = stats.normaltest(data)\n",
    "    norm_results[i] = {'n': len(data),\n",
    "                             'p-value':p,\n",
    "                             'test stat':stat,}\n",
    "norm_results_df = pd.DataFrame(norm_results).T\n",
    "norm_results_df"
   ]
  },
  {
   "cell_type": "markdown",
   "metadata": {},
   "source": [
    "The normality test p-values for each group are below 0.05 which means that the data in each group is not normally distributed, but the samples sizes are large enough to proceed without satisfying this test."
   ]
  },
  {
   "cell_type": "code",
   "execution_count": 8,
   "metadata": {},
   "outputs": [
    {
     "data": {
      "text/plain": [
       "LeveneResult(statistic=74.47818316677962, pvalue=3.374720509403088e-47)"
      ]
     },
     "execution_count": 8,
     "metadata": {},
     "output_type": "execute_result"
    }
   ],
   "source": [
    "# check homoscedasticity\n",
    "stats.levene(*groups.values())"
   ]
  },
  {
   "cell_type": "markdown",
   "metadata": {},
   "source": [
    "the homoscedasticity test p-value is below 0.05 which means that the groups come from pompulations with different variances. To deal with this we will use Kruskal-Wallis test wich don't assume homoscedasticity"
   ]
  },
  {
   "cell_type": "code",
   "execution_count": 9,
   "metadata": {},
   "outputs": [
    {
     "data": {
      "text/plain": [
       "KruskalResult(statistic=170.11607523181857, pvalue=1.2011774011778931e-36)"
      ]
     },
     "execution_count": 9,
     "metadata": {},
     "output_type": "execute_result"
    }
   ],
   "source": [
    "result = stats.kruskal( *groups.values())\n",
    "result"
   ]
  },
  {
   "cell_type": "markdown",
   "metadata": {},
   "source": [
    "The p-value is equal to 1.2011774011778931e-36 which is significant as it is below 0.05, so we can reject the null hypothesis and accept the alternative one that states that the average revenues change with certifications."
   ]
  },
  {
   "cell_type": "code",
   "execution_count": 14,
   "metadata": {},
   "outputs": [
    {
     "data": {
      "image/png": "[encoded data removed]",
      "text/plain": [
       "<Figure size 640x480 with 1 Axes>"
      ]
     },
     "metadata": {},
     "output_type": "display_data"
    }
   ],
   "source": [
    "# compare the groups means\n",
    "mpaa_ratings_df = df_movies[df_movies.certification.isin(mpaa_ratings)]\n",
    "ax = sns.barplot(x=mpaa_ratings_df.certification, y=mpaa_ratings_df.revenue,\n",
    "                 errorbar=None)\n",
    "ax.set(xlabel=\"Certification\")\n",
    "ax.set_ylabel(\"Average Revenue\")\n",
    "ax.set_title(\"Average Revenue VS Certification\")\n",
    "sns.despine(left=True, bottom=True)\n",
    "ax.tick_params(left=False, bottom=False)"
   ]
  },
  {
   "cell_type": "markdown",
   "metadata": {},
   "source": [
    "We see that PG certification has the highest average revenue."
   ]
  },
  {
   "cell_type": "code",
   "execution_count": 75,
   "metadata": {},
   "outputs": [],
   "source": [
    "# separate data into movies that last more than 1.5 hours and movies that last equal or less than 1.5 hours\n",
    "over_90_df = df_movies[df_movies.runtime>90].copy()\n",
    "under_90_df = df_movies[df_movies.runtime<=90].copy()"
   ]
  },
  {
   "cell_type": "code",
   "execution_count": 76,
   "metadata": {},
   "outputs": [],
   "source": [
    "# define revenues in each group\n",
    "over_90_revenue = over_90_df.revenue\n",
    "under_90_revenue = under_90_df.revenue"
   ]
  },
  {
   "cell_type": "code",
   "execution_count": null,
   "metadata": {},
   "outputs": [
    {
     "name": "stdout",
     "output_type": "stream",
     "text": [
      "\"has discount\" group: 39\n",
      "\"no discount\" group: 41\n"
     ]
    }
   ],
   "source": [
    "# check for outliers\n",
    "over_90_zscores= stats.zscore(over_90_revenue)\n",
    "over_90_outliers = abs(over_90_zscores)>3\n",
    "over_90_zscores= stats.zscore(over_90_revenue)\n",
    "over_90_outliers = abs(over_90_zscores)>3\n",
    "print(f'\"has discount\" group: {revenues_2010_outliers.sum()}\\n\"no discount\" group: {revenues_2018_outliers.sum()}')"
   ]
  },
  {
   "cell_type": "code",
   "execution_count": null,
   "metadata": {},
   "outputs": [],
   "source": [
    "# remove outliers in each group\n",
    "revenues_2010 = revenues_2010[abs(stats.zscore(revenues_2010))<3]\n",
    "revenues_2018 = revenues_2018[abs(stats.zscore(revenues_2018))<3]"
   ]
  },
  {
   "cell_type": "code",
   "execution_count": null,
   "metadata": {},
   "outputs": [
    {
     "name": "stdout",
     "output_type": "stream",
     "text": [
      "\"2010 movies\" group: NormaltestResult(statistic=2733.6675724599413, pvalue=0.0)\n",
      "\"2018 movies\" group: NormaltestResult(statistic=6239.930858621606, pvalue=0.0)\n"
     ]
    }
   ],
   "source": [
    "# check for normality\n",
    "nor_result_revenues_2010 = stats.normaltest(revenues_2010)\n",
    "nor_result_revenues_2018 = stats.normaltest(revenues_2018)\n",
    "print(f'\"2010 movies\" group: {nor_result_revenues_2010}\\n\"2018 movies\" group: {nor_result_revenues_2018}')"
   ]
  },
  {
   "cell_type": "markdown",
   "metadata": {},
   "source": [
    "The normality test p-values for each group are below 0.05 which means that the data in each group is not normally distributed, but the samples sizes are large enough to proceed without satisfying this test."
   ]
  },
  {
   "cell_type": "code",
   "execution_count": null,
   "metadata": {},
   "outputs": [
    {
     "name": "stdout",
     "output_type": "stream",
     "text": [
      "\"has discount\" group: 2356\n",
      "\"no discount\" group: 4375\n"
     ]
    }
   ],
   "source": [
    "# groups sizes\n",
    "print(f'\"has discount\" group: {len(revenues_2010)}\\n\"no discount\" group: {len(revenues_2018)}')"
   ]
  },
  {
   "cell_type": "code",
   "execution_count": null,
   "metadata": {},
   "outputs": [
    {
     "data": {
      "text/plain": [
       "LeveneResult(statistic=21.548587431665755, pvalue=3.515188306323848e-06)"
      ]
     },
     "metadata": {},
     "output_type": "display_data"
    }
   ],
   "source": [
    "# check for equal variance\n",
    "result_var = stats.levene(revenues_2010, revenues_2018)\n",
    "result_var"
   ]
  },
  {
   "cell_type": "markdown",
   "metadata": {},
   "source": [
    "The homoscedasticity test p-value is below 0.05 which means that the samples come from populations with different variances, so we will use a t-test that assume different variances.\n"
   ]
  },
  {
   "cell_type": "code",
   "execution_count": null,
   "metadata": {},
   "outputs": [
    {
     "data": {
      "text/plain": [
       "TtestResult(statistic=4.2130435618018485, pvalue=1.2899383505585547e-05, df=3683.512003139902)"
      ]
     },
     "metadata": {},
     "output_type": "display_data"
    }
   ],
   "source": [
    "# perform an independent one tailed t-test\n",
    "t_test_result = stats.ttest_ind(revenues_2010, revenues_2018, alternative=\"greater\", equal_var=False)\n",
    "t_test_result"
   ]
  },
  {
   "cell_type": "markdown",
   "metadata": {},
   "source": [
    "The p-value for the t-test is below 0.05, so we can reject the null hypothesis and accept the alternative one that sates that movies released in 2010 earn more revenue than movies released in 2018"
   ]
  },
  {
   "cell_type": "code",
   "execution_count": null,
   "metadata": {},
   "outputs": [
    {
     "data": {
      "image/png": "[encoded data removed]",
      "text/plain": [
       "<Figure size 640x480 with 1 Axes>"
      ]
     },
     "metadata": {},
     "output_type": "display_data"
    }
   ],
   "source": [
    "# compare groups means\n",
    "df_movies[\"release_year\"] = df_movies.release_date.dt.year\n",
    "df_2010_2019 = df_movies[df_movies.release_year.isin([2010, 2019])]\n",
    "ax = sns.barplot(x=df_2010_2019.release_year, y=df_2010_2019.revenue, errorbar=None)\n",
    "ax.set(xlabel=\"Release Year\")\n",
    "ax.set_ylabel(\"Average Revenue\")\n",
    "ax.set_title(\"Average Revenues VS Release Year\")\n",
    "sns.despine(left=True, bottom=True)\n",
    "ax.tick_params(left=False, bottom=False)"
   ]
  },
  {
   "cell_type": "code",
   "execution_count": 55,
   "metadata": {},
   "outputs": [],
   "source": [
    "# separate data into 2010 and 2018 movies\n",
    "df_movies.release_date = pd.to_datetime(df_movies.release_date)\n",
    "movies_2010_df = df_movies[df_movies.release_date.dt.year==2010].copy()\n",
    "movies_2019_df = df_movies[df_movies.release_date.dt.year==2018].copy()"
   ]
  },
  {
   "cell_type": "code",
   "execution_count": 56,
   "metadata": {},
   "outputs": [],
   "source": [
    "# define revenues in each group\n",
    "revenues_2010 = movies_2010_df.revenue\n",
    "revenues_2018 = movies_2018_df.revenue"
   ]
  },
  {
   "cell_type": "code",
   "execution_count": 78,
   "metadata": {},
   "outputs": [
    {
     "name": "stdout",
     "output_type": "stream",
     "text": [
      "\"2010 movies\" group: 59\n",
      "\"2018 movies\" group: 71\n"
     ]
    }
   ],
   "source": [
    "# check for outliers\n",
    "revenues_2010_zscores= stats.zscore(revenues_2010)\n",
    "revenues_2010_outliers = abs(revenues_2010_zscores)>3\n",
    "revenues_2018_zscores= stats.zscore(revenues_2018)\n",
    "revenues_2018_outliers = abs(revenues_2018_zscores)>3\n",
    "print(f'\"2010 movies\" group: {revenues_2010_outliers.sum()}\\n\"2018 movies\" group: {revenues_2018_outliers.sum()}')"
   ]
  },
  {
   "cell_type": "code",
   "execution_count": 58,
   "metadata": {},
   "outputs": [],
   "source": [
    "# remove outliers in each group\n",
    "revenues_2010 = revenues_2010[abs(stats.zscore(revenues_2010))<3]\n",
    "revenues_2018 = revenues_2018[abs(stats.zscore(revenues_2018))<3]"
   ]
  },
  {
   "cell_type": "code",
   "execution_count": 65,
   "metadata": {},
   "outputs": [
    {
     "name": "stdout",
     "output_type": "stream",
     "text": [
      "\"2010 movies\" group: NormaltestResult(statistic=2733.6675724599413, pvalue=0.0)\n",
      "\"2018 movies\" group: NormaltestResult(statistic=6239.930858621606, pvalue=0.0)\n"
     ]
    }
   ],
   "source": [
    "# check for normality\n",
    "nor_result_revenues_2010 = stats.normaltest(revenues_2010)\n",
    "nor_result_revenues_2018 = stats.normaltest(revenues_2018)\n",
    "print(f'\"2010 movies\" group: {nor_result_revenues_2010}\\n\"2018 movies\" group: {nor_result_revenues_2018}')"
   ]
  },
  {
   "cell_type": "markdown",
   "metadata": {},
   "source": [
    "The normality test p-values for each group are below 0.05 which means that the data in each group is not normally distributed, but the samples sizes are large enough to proceed without satisfying this test."
   ]
  },
  {
   "cell_type": "code",
   "execution_count": 66,
   "metadata": {},
   "outputs": [
    {
     "name": "stdout",
     "output_type": "stream",
     "text": [
      "\"has discount\" group: 2356\n",
      "\"no discount\" group: 4375\n"
     ]
    }
   ],
   "source": [
    "# groups sizes\n",
    "print(f'\"has discount\" group: {len(revenues_2010)}\\n\"no discount\" group: {len(revenues_2018)}')"
   ]
  },
  {
   "cell_type": "code",
   "execution_count": 67,
   "metadata": {},
   "outputs": [
    {
     "data": {
      "text/plain": [
       "LeveneResult(statistic=21.548587431665755, pvalue=3.515188306323848e-06)"
      ]
     },
     "execution_count": 67,
     "metadata": {},
     "output_type": "execute_result"
    }
   ],
   "source": [
    "# check for equal variance\n",
    "result_var = stats.levene(revenues_2010, revenues_2018)\n",
    "result_var"
   ]
  },
  {
   "cell_type": "markdown",
   "metadata": {},
   "source": [
    "The homoscedasticity test p-value is below 0.05 which means that the samples come from populations with different variances, so we will use a t-test that assume different variances.\n"
   ]
  },
  {
   "cell_type": "code",
   "execution_count": 62,
   "metadata": {},
   "outputs": [
    {
     "data": {
      "text/plain": [
       "TtestResult(statistic=4.2130435618018485, pvalue=1.2899383505585547e-05, df=3683.512003139902)"
      ]
     },
     "execution_count": 62,
     "metadata": {},
     "output_type": "execute_result"
    }
   ],
   "source": [
    "# perform an independent one tailed t-test\n",
    "t_test_result = stats.ttest_ind(revenues_2010, revenues_2018, alternative=\"greater\", equal_var=False)\n",
    "t_test_result"
   ]
  },
  {
   "cell_type": "markdown",
   "metadata": {},
   "source": [
    "The p-value for the t-test is below 0.05, so we can reject the null hypothesis and accept the alternative one that sates that movies released in 2010 earn more revenue than movies released in 2018"
   ]
  },
  {
   "cell_type": "code",
   "execution_count": 69,
   "metadata": {},
   "outputs": [
    {
     "data": {
      "image/png": "[encoded data removed]",
      "text/plain": [
       "<Figure size 640x480 with 1 Axes>"
      ]
     },
     "metadata": {},
     "output_type": "display_data"
    }
   ],
   "source": [
    "# compare groups means\n",
    "df_movies[\"release_year\"] = df_movies.release_date.dt.year\n",
    "df_2010_2019 = df_movies[df_movies.release_year.isin([2010, 2019])]\n",
    "ax = sns.barplot(x=df_2010_2019.release_year, y=df_2010_2019.revenue, errorbar=None)\n",
    "ax.set(xlabel=\"Release Year\")\n",
    "ax.set_ylabel(\"Average Revenue\")\n",
    "ax.set_title(\"Average Revenues VS Release Year\")\n",
    "sns.despine(left=True, bottom=True)\n",
    "ax.tick_params(left=False, bottom=False)"
   ]
  }
 ],
 "metadata": {
  "kernelspec": {
   "display_name": "Python 3",
   "language": "python",
   "name": "python3"
  },
  "language_info": {
   "codemirror_mode": {
    "name": "ipython",
    "version": 3
   },
   "file_extension": ".py",
   "mimetype": "text/x-python",
   "name": "python",
   "nbconvert_exporter": "python",
   "pygments_lexer": "ipython3",
   "version": "3.11.4"
  }
 },
 "nbformat": 4,
 "nbformat_minor": 2
}
