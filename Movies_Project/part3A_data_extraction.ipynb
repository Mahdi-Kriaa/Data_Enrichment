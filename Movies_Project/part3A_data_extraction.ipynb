{
 "cells": [
  {
   "cell_type": "code",
   "execution_count": 1,
   "metadata": {},
   "outputs": [],
   "source": [
    "# imports\n",
    "import json\n",
    "import tmdbsimple as tmdb \n",
    "import pandas as pd\n",
    "from tqdm.notebook import tqdm_notebook"
   ]
  },
  {
   "cell_type": "code",
   "execution_count": 2,
   "metadata": {},
   "outputs": [],
   "source": [
    "# connect to the \"TMDB\" API\n",
    "with open(\".secret/tmdb_api.json\", 'r') as f:\n",
    "    login = json.load(f)\n",
    "tmdb.API_KEY =  login['api_key']"
   ]
  },
  {
   "cell_type": "code",
   "execution_count": 3,
   "metadata": {},
   "outputs": [],
   "source": [
    "# define list of years to get from API\n",
    "years_to_get = [2001, 2002]"
   ]
  },
  {
   "cell_type": "code",
   "execution_count": 4,
   "metadata": {},
   "outputs": [],
   "source": [
    "# define function that get movie informations with rating\n",
    "def get_with_rating(API, movie_id):\n",
    "    movie = API.Movies(movie_id)\n",
    "    movie_info = movie.info()\n",
    "    releases = movie.releases()\n",
    "    for c in releases[\"countries\"]:\n",
    "        if c[\"iso_3166_1\"] ==\"US\":\n",
    "            movie_info[\"certification\"] = c[\"certification\"]\n",
    "    return(movie_info)\n",
    "# define function to save records in a json file\n",
    "def write_json(new_data, filename):   \n",
    "    with open(filename,\"r+\") as file:\n",
    "        file_data = json.load(file)\n",
    "        if (type(new_data) == list) & (type(file_data) == list):\n",
    "            file_data.extend(new_data)\n",
    "        else:\n",
    "             file_data.append(new_data)\n",
    "        file.seek(0)\n",
    "        json.dump(file_data, file)"
   ]
  },
  {
   "cell_type": "code",
   "execution_count": 5,
   "metadata": {},
   "outputs": [
    {
     "data": {
      "application/vnd.jupyter.widget-view+json": {
       "model_id": "0535fcd7caa14c8fb779338df8e50eec",
       "version_major": 2,
       "version_minor": 0
      },
      "text/plain": [
       "Years:   0%|          | 0/2 [00:00<?, ?it/s]"
      ]
     },
     "metadata": {},
     "output_type": "display_data"
    },
    {
     "data": {
      "application/vnd.jupyter.widget-view+json": {
       "model_id": "04b4cb4b1c2640e4994c8fff575d20d0",
       "version_major": 2,
       "version_minor": 0
      },
      "text/plain": [
       "Movies from 2001:   0%|          | 0/210 [00:00<?, ?it/s]"
      ]
     },
     "metadata": {},
     "output_type": "display_data"
    },
    {
     "data": {
      "application/vnd.jupyter.widget-view+json": {
       "model_id": "5e51292832a2459b8aee7fc56f93508b",
       "version_major": 2,
       "version_minor": 0
      },
      "text/plain": [
       "Movies from 2002:   0%|          | 0/275 [00:00<?, ?it/s]"
      ]
     },
     "metadata": {},
     "output_type": "display_data"
    }
   ],
   "source": [
    "# extract movies informations\n",
    "errors = []\n",
    "for year in tqdm_notebook(years_to_get, \"Years\", position=0):\n",
    "    df_basics = pd.read_csv(\"Data/title_basics_filtred.csv\")\n",
    "    movie_ids = df_basics[df_basics[\"startYear\"]==float(year)][\"tconst\"]\n",
    "    previous_df = pd.read_json(f\"Data/tmdb_api_results_{year}.json\")\n",
    "    if previous_df.shape[0] != 0:\n",
    "        movie_ids = movie_ids[~movie_ids.isin(previous_df['imdb_id'])]\n",
    "    for movie_id in tqdm_notebook(movie_ids, f\"Movies from {year}\", position=0):\n",
    "        try:\n",
    "            record = get_with_rating(tmdb, movie_id)\n",
    "            write_json(record, f\"Data/tmdb_api_results_{year}.json\")\n",
    "        except Exception as e:\n",
    "            errors.append([movie_id, e])"
   ]
  },
  {
   "cell_type": "code",
   "execution_count": 6,
   "metadata": {},
   "outputs": [],
   "source": [
    "# save data in csv compressed files\n",
    "for year in years_to_get:\n",
    "    year_df = pd.read_json(f\"Data/tmdb_api_results_{year}.json\")\n",
    "    year_df.to_csv(f\"Data/final_tmdb_data_{year}.csv.gz\", compression=\"gzip\", index=False)"
   ]
  }
 ],
 "metadata": {
  "kernelspec": {
   "display_name": "Python 3",
   "language": "python",
   "name": "python3"
  },
  "language_info": {
   "codemirror_mode": {
    "name": "ipython",
    "version": 3
   },
   "file_extension": ".py",
   "mimetype": "text/x-python",
   "name": "python",
   "nbconvert_exporter": "python",
   "pygments_lexer": "ipython3",
   "version": "3.11.4"
  }
 },
 "nbformat": 4,
 "nbformat_minor": 2
}
